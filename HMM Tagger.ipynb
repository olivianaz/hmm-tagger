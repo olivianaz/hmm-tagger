{
 "cells": [
  {
   "cell_type": "markdown",
   "metadata": {},
   "source": [
    "# Project: Part of Speech Tagging with Hidden Markov Models \n",
    "---\n",
    "### Introduction\n",
    "\n",
    "Part of speech tagging is the process of determining the syntactic category of a word from the words in its surrounding context. It is often used to help disambiguate natural language phrases because it can be done quickly with high accuracy. Tagging can be used for many NLP tasks like determining correct pronunciation during speech synthesis (for example, _dis_-count as a noun vs dis-_count_ as a verb), for information retrieval, and for word sense disambiguation.\n",
    "\n",
    "In this notebook, you'll use the [Pomegranate](http://pomegranate.readthedocs.io/) library to build a hidden Markov model for part of speech tagging using a \"universal\" tagset. Hidden Markov models have been able to achieve [>96% tag accuracy with larger tagsets on realistic text corpora](http://www.coli.uni-saarland.de/~thorsten/publications/Brants-ANLP00.pdf). Hidden Markov models have also been used for speech recognition and speech generation, machine translation, gene recognition for bioinformatics, and human gesture recognition for computer vision, and more. \n",
    "\n",
    "![](_post-hmm.png)\n",
    "\n",
    "The notebook already contains some code to get you started. You only need to add some new functionality in the areas indicated to complete the project; you will not need to modify the included code beyond what is requested. Sections that begin with **'IMPLEMENTATION'** in the header indicate that you must provide code in the block that follows. Instructions will be provided for each section, and the specifics of the implementation are marked in the code block with a 'TODO' statement. Please be sure to read the instructions carefully!"
   ]
  },
  {
   "cell_type": "markdown",
   "metadata": {},
   "source": [
    "<div class=\"alert alert-block alert-info\">\n",
    "**Note:** Once you have completed all of the code implementations, you need to finalize your work by exporting the iPython Notebook as an HTML document. Before exporting the notebook to html, all of the code cells need to have been run so that reviewers can see the final implementation and output. You must then **export the notebook** by running the last cell in the notebook, or by using the menu above and navigating to **File -> Download as -> HTML (.html)** Your submissions should include both the `html` and `ipynb` files.\n",
    "</div>"
   ]
  },
  {
   "cell_type": "markdown",
   "metadata": {},
   "source": [
    "<div class=\"alert alert-block alert-info\">\n",
    "**Note:** Code and Markdown cells can be executed using the `Shift + Enter` keyboard shortcut. Markdown cells can be edited by double-clicking the cell to enter edit mode.\n",
    "</div>"
   ]
  },
  {
   "cell_type": "markdown",
   "metadata": {},
   "source": [
    "### The Road Ahead\n",
    "You must complete Steps 1-3 below to pass the project. The section on Step 4 includes references & resources you can use to further explore HMM taggers.\n",
    "\n",
    "- [Step 1](#Step-1:-Read-and-preprocess-the-dataset): Review the provided interface to load and access the text corpus\n",
    "- [Step 2](#Step-2:-Build-a-Most-Frequent-Class-tagger): Build a Most Frequent Class tagger to use as a baseline\n",
    "- [Step 3](#Step-3:-Build-an-HMM-tagger): Build an HMM Part of Speech tagger and compare to the MFC baseline\n",
    "- [Step 4](#Step-4:-[Optional]-Improving-model-performance): (Optional) Improve the HMM tagger"
   ]
  },
  {
   "cell_type": "markdown",
   "metadata": {},
   "source": [
    "<div class=\"alert alert-block alert-warning\">\n",
    "**Note:** Make sure you have selected a **Python 3** kernel in Workspaces or the hmm-tagger conda environment if you are running the Jupyter server on your own machine.\n",
    "</div>"
   ]
  },
  {
   "cell_type": "code",
   "execution_count": 1,
   "metadata": {},
   "outputs": [],
   "source": [
    "# Jupyter \"magic methods\" -- only need to be run once per kernel restart\n",
    "%load_ext autoreload\n",
    "%aimport helpers, tests\n",
    "%autoreload 1"
   ]
  },
  {
   "cell_type": "code",
   "execution_count": 2,
   "metadata": {},
   "outputs": [],
   "source": [
    "# import python modules -- this cell needs to be run again if you make changes to any of the files\n",
    "import matplotlib.pyplot as plt\n",
    "import numpy as np\n",
    "\n",
    "from IPython.core.display import HTML\n",
    "from itertools import chain, product\n",
    "from collections import Counter, defaultdict\n",
    "from helpers import show_model, Dataset\n",
    "from pomegranate import State, HiddenMarkovModel, DiscreteDistribution"
   ]
  },
  {
   "cell_type": "markdown",
   "metadata": {},
   "source": [
    "## Step 1: Read and preprocess the dataset\n",
    "---\n",
    "We'll start by reading in a text corpus and splitting it into a training and testing dataset. The data set is a copy of the [Brown corpus](https://en.wikipedia.org/wiki/Brown_Corpus) (originally from the [NLTK](https://www.nltk.org/) library) that has already been pre-processed to only include the [universal tagset](https://arxiv.org/pdf/1104.2086.pdf). You should expect to get slightly higher accuracy using this simplified tagset than the same model would achieve on a larger tagset like the full [Penn treebank tagset](https://www.ling.upenn.edu/courses/Fall_2003/ling001/penn_treebank_pos.html), but the process you'll follow would be the same.\n",
    "\n",
    "The `Dataset` class provided in helpers.py will read and parse the corpus. You can generate your own datasets compatible with the reader by writing them to the following format. The dataset is stored in plaintext as a collection of words and corresponding tags. Each sentence starts with a unique identifier on the first line, followed by one tab-separated word/tag pair on each following line. Sentences are separated by a single blank line.\n",
    "\n",
    "Example from the Brown corpus. \n",
    "```\n",
    "b100-38532\n",
    "Perhaps\tADV\n",
    "it\tPRON\n",
    "was\tVERB\n",
    "right\tADJ\n",
    ";\t.\n",
    ";\t.\n",
    "\n",
    "b100-35577\n",
    "...\n",
    "```"
   ]
  },
  {
   "cell_type": "code",
   "execution_count": 3,
   "metadata": {},
   "outputs": [
    {
     "name": "stdout",
     "output_type": "stream",
     "text": [
      "There are 57340 sentences in the corpus.\n",
      "There are 45872 sentences in the training set.\n",
      "There are 11468 sentences in the testing set.\n"
     ]
    }
   ],
   "source": [
    "data = Dataset(\"tags-universal.txt\", \"brown-universal.txt\", train_test_split=0.8)\n",
    "\n",
    "print(\"There are {} sentences in the corpus.\".format(len(data)))\n",
    "print(\"There are {} sentences in the training set.\".format(len(data.training_set)))\n",
    "print(\"There are {} sentences in the testing set.\".format(len(data.testing_set)))\n",
    "\n",
    "assert len(data) == len(data.training_set) + len(data.testing_set), \\\n",
    "       \"The number of sentences in the training set + testing set should sum to the number of sentences in the corpus\""
   ]
  },
  {
   "cell_type": "markdown",
   "metadata": {},
   "source": [
    "### The Dataset Interface\n",
    "\n",
    "You can access (mostly) immutable references to the dataset through a simple interface provided through the `Dataset` class, which represents an iterable collection of sentences along with easy access to partitions of the data for training & testing. Review the reference below, then run and review the next few cells to make sure you understand the interface before moving on to the next step.\n",
    "\n",
    "```\n",
    "Dataset-only Attributes:\n",
    "    training_set - reference to a Subset object containing the samples for training\n",
    "    testing_set - reference to a Subset object containing the samples for testing\n",
    "\n",
    "Dataset & Subset Attributes:\n",
    "    sentences - a dictionary with an entry {sentence_key: Sentence()} for each sentence in the corpus\n",
    "    keys - an immutable ordered (not sorted) collection of the sentence_keys for the corpus\n",
    "    vocab - an immutable collection of the unique words in the corpus\n",
    "    tagset - an immutable collection of the unique tags in the corpus\n",
    "    X - returns an array of words grouped by sentences ((w11, w12, w13, ...), (w21, w22, w23, ...), ...)\n",
    "    Y - returns an array of tags grouped by sentences ((t11, t12, t13, ...), (t21, t22, t23, ...), ...)\n",
    "    N - returns the number of distinct samples (individual words or tags) in the dataset\n",
    "\n",
    "Methods:\n",
    "    stream() - returns an flat iterable over all (word, tag) pairs across all sentences in the corpus\n",
    "    __iter__() - returns an iterable over the data as (sentence_key, Sentence()) pairs\n",
    "    __len__() - returns the nubmer of sentences in the dataset\n",
    "```\n",
    "\n",
    "For example, consider a Subset, `subset`, of the sentences `{\"s0\": Sentence((\"See\", \"Spot\", \"run\"), (\"VERB\", \"NOUN\", \"VERB\")), \"s1\": Sentence((\"Spot\", \"ran\"), (\"NOUN\", \"VERB\"))}`. The subset will have these attributes:\n",
    "\n",
    "```\n",
    "subset.keys == {\"s1\", \"s0\"}  # unordered\n",
    "subset.vocab == {\"See\", \"run\", \"ran\", \"Spot\"}  # unordered\n",
    "subset.tagset == {\"VERB\", \"NOUN\"}  # unordered\n",
    "subset.X == ((\"Spot\", \"ran\"), (\"See\", \"Spot\", \"run\"))  # order matches .keys\n",
    "subset.Y == ((\"NOUN\", \"VERB\"), (\"VERB\", \"NOUN\", \"VERB\"))  # order matches .keys\n",
    "subset.N == 7  # there are a total of seven observations over all sentences\n",
    "len(subset) == 2  # because there are two sentences\n",
    "```\n",
    "\n",
    "<div class=\"alert alert-block alert-info\">\n",
    "**Note:** The `Dataset` class is _convenient_, but it is **not** efficient. It is not suitable for huge datasets because it stores multiple redundant copies of the same data.\n",
    "</div>"
   ]
  },
  {
   "cell_type": "markdown",
   "metadata": {},
   "source": [
    "#### Sentences\n",
    "\n",
    "`Dataset.sentences` is a dictionary of all sentences in the training corpus, each keyed to a unique sentence identifier. Each `Sentence` is itself an object with two attributes: a tuple of the words in the sentence named `words` and a tuple of the tag corresponding to each word named `tags`."
   ]
  },
  {
   "cell_type": "code",
   "execution_count": 4,
   "metadata": {},
   "outputs": [
    {
     "name": "stdout",
     "output_type": "stream",
     "text": [
      "Sentence: b100-38532\n",
      "words:\n",
      "\t('Perhaps', 'it', 'was', 'right', ';', ';')\n",
      "tags:\n",
      "\t('ADV', 'PRON', 'VERB', 'ADJ', '.', '.')\n"
     ]
    }
   ],
   "source": [
    "key = 'b100-38532'\n",
    "print(\"Sentence: {}\".format(key))\n",
    "print(\"words:\\n\\t{!s}\".format(data.sentences[key].words))\n",
    "print(\"tags:\\n\\t{!s}\".format(data.sentences[key].tags))"
   ]
  },
  {
   "cell_type": "markdown",
   "metadata": {},
   "source": [
    "<div class=\"alert alert-block alert-info\">\n",
    "**Note:** The underlying iterable sequence is **unordered** over the sentences in the corpus; it is not guaranteed to return the sentences in a consistent order between calls. Use `Dataset.stream()`, `Dataset.keys`, `Dataset.X`, or `Dataset.Y` attributes if you need ordered access to the data.\n",
    "</div>\n",
    "\n",
    "#### Counting Unique Elements\n",
    "\n",
    "You can access the list of unique words (the dataset vocabulary) via `Dataset.vocab` and the unique list of tags via `Dataset.tagset`."
   ]
  },
  {
   "cell_type": "code",
   "execution_count": 5,
   "metadata": {},
   "outputs": [
    {
     "name": "stdout",
     "output_type": "stream",
     "text": [
      "There are a total of 1161192 samples of 56057 unique words in the corpus.\n",
      "There are 928458 samples of 50536 unique words in the training set.\n",
      "There are 232734 samples of 25112 unique words in the testing set.\n",
      "There are 5521 words in the test set that are missing in the training set.\n"
     ]
    }
   ],
   "source": [
    "print(\"There are a total of {} samples of {} unique words in the corpus.\"\n",
    "      .format(data.N, len(data.vocab)))\n",
    "print(\"There are {} samples of {} unique words in the training set.\"\n",
    "      .format(data.training_set.N, len(data.training_set.vocab)))\n",
    "print(\"There are {} samples of {} unique words in the testing set.\"\n",
    "      .format(data.testing_set.N, len(data.testing_set.vocab)))\n",
    "print(\"There are {} words in the test set that are missing in the training set.\"\n",
    "      .format(len(data.testing_set.vocab - data.training_set.vocab)))\n",
    "\n",
    "assert data.N == data.training_set.N + data.testing_set.N, \\\n",
    "       \"The number of training + test samples should sum to the total number of samples\""
   ]
  },
  {
   "cell_type": "markdown",
   "metadata": {},
   "source": [
    "#### Accessing word and tag Sequences\n",
    "The `Dataset.X` and `Dataset.Y` attributes provide access to ordered collections of matching word and tag sequences for each sentence in the dataset."
   ]
  },
  {
   "cell_type": "code",
   "execution_count": 6,
   "metadata": {},
   "outputs": [
    {
     "name": "stdout",
     "output_type": "stream",
     "text": [
      "Sentence 1: ('Mr.', 'Podger', 'had', 'thanked', 'him', 'gravely', ',', 'and', 'now', 'he', 'made', 'use', 'of', 'the', 'advice', '.')\n",
      "\n",
      "Labels 1: ('NOUN', 'NOUN', 'VERB', 'VERB', 'PRON', 'ADV', '.', 'CONJ', 'ADV', 'PRON', 'VERB', 'NOUN', 'ADP', 'DET', 'NOUN', '.')\n",
      "\n",
      "Sentence 2: ('But', 'there', 'seemed', 'to', 'be', 'some', 'difference', 'of', 'opinion', 'as', 'to', 'how', 'far', 'the', 'board', 'should', 'go', ',', 'and', 'whose', 'advice', 'it', 'should', 'follow', '.')\n",
      "\n",
      "Labels 2: ('CONJ', 'PRT', 'VERB', 'PRT', 'VERB', 'DET', 'NOUN', 'ADP', 'NOUN', 'ADP', 'ADP', 'ADV', 'ADV', 'DET', 'NOUN', 'VERB', 'VERB', '.', 'CONJ', 'DET', 'NOUN', 'PRON', 'VERB', 'VERB', '.')\n",
      "\n"
     ]
    }
   ],
   "source": [
    "# accessing words with Dataset.X and tags with Dataset.Y \n",
    "for i in range(2):    \n",
    "    print(\"Sentence {}:\".format(i + 1), data.X[i])\n",
    "    print()\n",
    "    print(\"Labels {}:\".format(i + 1), data.Y[i])\n",
    "    print()"
   ]
  },
  {
   "cell_type": "markdown",
   "metadata": {},
   "source": [
    "#### Accessing (word, tag) Samples\n",
    "The `Dataset.stream()` method returns an iterator that chains together every pair of (word, tag) entries across all sentences in the entire corpus."
   ]
  },
  {
   "cell_type": "code",
   "execution_count": 7,
   "metadata": {},
   "outputs": [
    {
     "name": "stdout",
     "output_type": "stream",
     "text": [
      "\n",
      "Stream (word, tag) pairs:\n",
      "\n",
      "\t ('Mr.', 'NOUN')\n",
      "\t ('Podger', 'NOUN')\n",
      "\t ('had', 'VERB')\n",
      "\t ('thanked', 'VERB')\n",
      "\t ('him', 'PRON')\n",
      "\t ('gravely', 'ADV')\n",
      "\t (',', '.')\n"
     ]
    }
   ],
   "source": [
    "# use Dataset.stream() (word, tag) samples for the entire corpus\n",
    "print(\"\\nStream (word, tag) pairs:\\n\")\n",
    "for i, pair in enumerate(data.stream()):\n",
    "    print(\"\\t\", pair)\n",
    "    if i > 5: break"
   ]
  },
  {
   "cell_type": "markdown",
   "metadata": {},
   "source": [
    "\n",
    "For both our baseline tagger and the HMM model we'll build, we need to estimate the frequency of tags & words from the frequency counts of observations in the training corpus. In the next several cells you will complete functions to compute the counts of several sets of counts. "
   ]
  },
  {
   "cell_type": "markdown",
   "metadata": {},
   "source": [
    "## Step 2: Build a Most Frequent Class tagger\n",
    "---\n",
    "\n",
    "Perhaps the simplest tagger (and a good baseline for tagger performance) is to simply choose the tag most frequently assigned to each word. This \"most frequent class\" tagger inspects each observed word in the sequence and assigns it the label that was most often assigned to that word in the corpus."
   ]
  },
  {
   "cell_type": "markdown",
   "metadata": {},
   "source": [
    "### IMPLEMENTATION: Pair Counts\n",
    "\n",
    "Complete the function below that computes the joint frequency counts for two input sequences."
   ]
  },
  {
   "cell_type": "code",
   "execution_count": 8,
   "metadata": {},
   "outputs": [
    {
     "data": {
      "text/html": [
       "<div class=\"alert alert-block alert-success\">Your emission counts look good!</div>"
      ],
      "text/plain": [
       "<IPython.core.display.HTML object>"
      ]
     },
     "execution_count": 8,
     "metadata": {},
     "output_type": "execute_result"
    }
   ],
   "source": [
    "def pair_counts(sequences_A, sequences_B):\n",
    "    \"\"\"Return a dictionary keyed to each unique value in the first sequence list\n",
    "    that counts the number of occurrences of the corresponding value from the\n",
    "    second sequences list.\n",
    "    \n",
    "    For example, if sequences_A is tags and sequences_B is the corresponding\n",
    "    words, then if 1244 sequences contain the word \"time\" tagged as a NOUN, then\n",
    "    you should return a dictionary such that pair_counts[NOUN][time] == 1244\n",
    "    \"\"\"\n",
    "    # TODO: Finish this function!\n",
    "    counts = {}\n",
    "    for seq_a, seq_b in zip(sequences_A, sequences_B):\n",
    "        for a, b in zip(seq_a, seq_b):\n",
    "            if a not in counts:\n",
    "                counts[a] = {}\n",
    "            counts[a][b] = counts[a].get(b, 0) + 1\n",
    "    return counts\n",
    "    \n",
    "\n",
    "# Calculate C(t_i, w_i)\n",
    "emission_counts = pair_counts(data.training_set.Y, data.training_set.X)\n",
    "\n",
    "assert len(emission_counts) == 12, \\\n",
    "       \"Uh oh. There should be 12 tags in your dictionary.\"\n",
    "assert max(emission_counts[\"NOUN\"], key=emission_counts[\"NOUN\"].get) == 'time', \\\n",
    "       \"Hmmm...'time' is expected to be the most common NOUN.\"\n",
    "HTML('<div class=\"alert alert-block alert-success\">Your emission counts look good!</div>')"
   ]
  },
  {
   "cell_type": "markdown",
   "metadata": {},
   "source": [
    "### IMPLEMENTATION: Most Frequent Class Tagger\n",
    "\n",
    "Use the `pair_counts()` function and the training dataset to find the most frequent class label for each word in the training data, and populate the `mfc_table` below. The table keys should be words, and the values should be the appropriate tag string.\n",
    "\n",
    "The `MFCTagger` class is provided to mock the interface of Pomegranite HMM models so that they can be used interchangeably."
   ]
  },
  {
   "cell_type": "code",
   "execution_count": 9,
   "metadata": {},
   "outputs": [
    {
     "data": {
      "text/html": [
       "<div class=\"alert alert-block alert-success\">Your MFC tagger has all the correct words!</div>"
      ],
      "text/plain": [
       "<IPython.core.display.HTML object>"
      ]
     },
     "execution_count": 9,
     "metadata": {},
     "output_type": "execute_result"
    }
   ],
   "source": [
    "# Create a lookup table mfc_table where mfc_table[word] contains the tag label most frequently assigned to that word\n",
    "from collections import namedtuple\n",
    "\n",
    "FakeState = namedtuple(\"FakeState\", \"name\")\n",
    "\n",
    "class MFCTagger:\n",
    "    # NOTE: You should not need to modify this class or any of its methods\n",
    "    missing = FakeState(name=\"<MISSING>\")\n",
    "    \n",
    "    def __init__(self, table):\n",
    "        self.table = defaultdict(lambda: MFCTagger.missing)\n",
    "        self.table.update({word: FakeState(name=tag) for word, tag in table.items()})\n",
    "        \n",
    "    def viterbi(self, seq):\n",
    "        \"\"\"This method simplifies predictions by matching the Pomegranate viterbi() interface\"\"\"\n",
    "        return 0., list(enumerate([\"<start>\"] + [self.table[w] for w in seq] + [\"<end>\"]))\n",
    "\n",
    "\n",
    "# TODO: calculate the frequency of each tag being assigned to each word (hint: similar, but not\n",
    "# the same as the emission probabilities) and use it to fill the mfc_table\n",
    "\n",
    "word_counts = pair_counts(data.training_set.X, data.training_set.Y)\n",
    "\n",
    "mfc_table = {word: sorted(freqs.items(), key=lambda x: x[1], reverse=True)[0][0] \n",
    "             for word, freqs in word_counts.items()}\n",
    "\n",
    "# DO NOT MODIFY BELOW THIS LINE\n",
    "mfc_model = MFCTagger(mfc_table) # Create a Most Frequent Class tagger instance\n",
    "\n",
    "assert len(mfc_table) == len(data.training_set.vocab), \"\"\n",
    "assert all(k in data.training_set.vocab for k in mfc_table.keys()), \"\"\n",
    "assert sum(int(k not in mfc_table) for k in data.testing_set.vocab) == 5521, \"\"\n",
    "HTML('<div class=\"alert alert-block alert-success\">Your MFC tagger has all the correct words!</div>')"
   ]
  },
  {
   "cell_type": "markdown",
   "metadata": {},
   "source": [
    "### Making Predictions with a Model\n",
    "The helper functions provided below interface with Pomegranate network models & the mocked MFCTagger to take advantage of the [missing value](http://pomegranate.readthedocs.io/en/latest/nan.html) functionality in Pomegranate through a simple sequence decoding function. Run these functions, then run the next cell to see some of the predictions made by the MFC tagger."
   ]
  },
  {
   "cell_type": "code",
   "execution_count": 10,
   "metadata": {},
   "outputs": [],
   "source": [
    "def replace_unknown(sequence):\n",
    "    \"\"\"Return a copy of the input sequence where each unknown word is replaced\n",
    "    by the literal string value 'nan'. Pomegranate will ignore these values\n",
    "    during computation.\n",
    "    \"\"\"\n",
    "    return [w if w in data.training_set.vocab else 'nan' for w in sequence]\n",
    "\n",
    "def simplify_decoding(X, model):\n",
    "    \"\"\"X should be a 1-D sequence of observations for the model to predict\"\"\"\n",
    "    _, state_path = model.viterbi(replace_unknown(X))\n",
    "    return [state[1].name for state in state_path[1:-1]]  # do not show the start/end state predictions"
   ]
  },
  {
   "cell_type": "markdown",
   "metadata": {},
   "source": [
    "### Example Decoding Sequences with MFC Tagger"
   ]
  },
  {
   "cell_type": "code",
   "execution_count": 11,
   "metadata": {},
   "outputs": [
    {
     "name": "stdout",
     "output_type": "stream",
     "text": [
      "Sentence Key: b100-28144\n",
      "\n",
      "Predicted labels:\n",
      "-----------------\n",
      "['CONJ', 'NOUN', 'NUM', '.', 'NOUN', 'NUM', '.', 'NOUN', 'NUM', '.', 'CONJ', 'NOUN', 'NUM', '.', '.', 'NOUN', '.', '.']\n",
      "\n",
      "Actual labels:\n",
      "--------------\n",
      "('CONJ', 'NOUN', 'NUM', '.', 'NOUN', 'NUM', '.', 'NOUN', 'NUM', '.', 'CONJ', 'NOUN', 'NUM', '.', '.', 'NOUN', '.', '.')\n",
      "\n",
      "\n",
      "Sentence Key: b100-23146\n",
      "\n",
      "Predicted labels:\n",
      "-----------------\n",
      "['PRON', 'VERB', 'DET', 'NOUN', 'ADP', 'ADJ', 'ADJ', 'NOUN', 'VERB', 'VERB', '.', 'ADP', 'VERB', 'DET', 'NOUN', 'ADP', 'NOUN', 'ADP', 'DET', 'NOUN', '.']\n",
      "\n",
      "Actual labels:\n",
      "--------------\n",
      "('PRON', 'VERB', 'DET', 'NOUN', 'ADP', 'ADJ', 'ADJ', 'NOUN', 'VERB', 'VERB', '.', 'ADP', 'VERB', 'DET', 'NOUN', 'ADP', 'NOUN', 'ADP', 'DET', 'NOUN', '.')\n",
      "\n",
      "\n",
      "Sentence Key: b100-35462\n",
      "\n",
      "Predicted labels:\n",
      "-----------------\n",
      "['DET', 'ADJ', 'NOUN', 'VERB', 'VERB', 'VERB', 'ADP', 'DET', 'ADJ', 'ADJ', 'NOUN', 'ADP', 'DET', 'ADJ', 'NOUN', '.', 'ADP', 'ADJ', 'NOUN', '.', 'CONJ', 'ADP', 'DET', '<MISSING>', 'ADP', 'ADJ', 'ADJ', '.', 'ADJ', '.', 'CONJ', 'ADJ', 'NOUN', 'ADP', 'ADV', 'NOUN', '.']\n",
      "\n",
      "Actual labels:\n",
      "--------------\n",
      "('DET', 'ADJ', 'NOUN', 'VERB', 'VERB', 'VERB', 'ADP', 'DET', 'ADJ', 'ADJ', 'NOUN', 'ADP', 'DET', 'ADJ', 'NOUN', '.', 'ADP', 'ADJ', 'NOUN', '.', 'CONJ', 'ADP', 'DET', 'NOUN', 'ADP', 'ADJ', 'ADJ', '.', 'ADJ', '.', 'CONJ', 'ADJ', 'NOUN', 'ADP', 'ADJ', 'NOUN', '.')\n",
      "\n",
      "\n"
     ]
    }
   ],
   "source": [
    "for key in data.testing_set.keys[:3]:\n",
    "    print(\"Sentence Key: {}\\n\".format(key))\n",
    "    print(\"Predicted labels:\\n-----------------\")\n",
    "    print(simplify_decoding(data.sentences[key].words, mfc_model))\n",
    "    print()\n",
    "    print(\"Actual labels:\\n--------------\")\n",
    "    print(data.sentences[key].tags)\n",
    "    print(\"\\n\")"
   ]
  },
  {
   "cell_type": "markdown",
   "metadata": {},
   "source": [
    "### Evaluating Model Accuracy\n",
    "\n",
    "The function below will evaluate the accuracy of the MFC tagger on the collection of all sentences from a text corpus. "
   ]
  },
  {
   "cell_type": "code",
   "execution_count": 12,
   "metadata": {},
   "outputs": [],
   "source": [
    "def accuracy(X, Y, model):\n",
    "    \"\"\"Calculate the prediction accuracy by using the model to decode each sequence\n",
    "    in the input X and comparing the prediction with the true labels in Y.\n",
    "    \n",
    "    The X should be an array whose first dimension is the number of sentences to test,\n",
    "    and each element of the array should be an iterable of the words in the sequence.\n",
    "    The arrays X and Y should have the exact same shape.\n",
    "    \n",
    "    X = [(\"See\", \"Spot\", \"run\"), (\"Run\", \"Spot\", \"run\", \"fast\"), ...]\n",
    "    Y = [(), (), ...]\n",
    "    \"\"\"\n",
    "    correct = total_predictions = 0\n",
    "    for observations, actual_tags in zip(X, Y):\n",
    "        \n",
    "        # The model.viterbi call in simplify_decoding will return None if the HMM\n",
    "        # raises an error (for example, if a test sentence contains a word that\n",
    "        # is out of vocabulary for the training set). Any exception counts the\n",
    "        # full sentence as an error (which makes this a conservative estimate).\n",
    "        try:\n",
    "            most_likely_tags = simplify_decoding(observations, model)\n",
    "            correct += sum(p == t for p, t in zip(most_likely_tags, actual_tags))\n",
    "        except:\n",
    "            pass\n",
    "        total_predictions += len(observations)\n",
    "    return correct / total_predictions"
   ]
  },
  {
   "cell_type": "markdown",
   "metadata": {},
   "source": [
    "#### Evaluate the accuracy of the MFC tagger\n",
    "Run the next cell to evaluate the accuracy of the tagger on the training and test corpus."
   ]
  },
  {
   "cell_type": "code",
   "execution_count": 13,
   "metadata": {},
   "outputs": [
    {
     "name": "stdout",
     "output_type": "stream",
     "text": [
      "training accuracy mfc_model: 95.72%\n",
      "testing accuracy mfc_model: 93.02%\n"
     ]
    },
    {
     "data": {
      "text/html": [
       "<div class=\"alert alert-block alert-success\">Your MFC tagger accuracy looks correct!</div>"
      ],
      "text/plain": [
       "<IPython.core.display.HTML object>"
      ]
     },
     "execution_count": 13,
     "metadata": {},
     "output_type": "execute_result"
    }
   ],
   "source": [
    "mfc_training_acc = accuracy(data.training_set.X, data.training_set.Y, mfc_model)\n",
    "print(\"training accuracy mfc_model: {:.2f}%\".format(100 * mfc_training_acc))\n",
    "\n",
    "mfc_testing_acc = accuracy(data.testing_set.X, data.testing_set.Y, mfc_model)\n",
    "print(\"testing accuracy mfc_model: {:.2f}%\".format(100 * mfc_testing_acc))\n",
    "\n",
    "assert mfc_training_acc >= 0.955, \"Uh oh. Your MFC accuracy on the training set doesn't look right.\"\n",
    "assert mfc_testing_acc >= 0.925, \"Uh oh. Your MFC accuracy on the testing set doesn't look right.\"\n",
    "HTML('<div class=\"alert alert-block alert-success\">Your MFC tagger accuracy looks correct!</div>')"
   ]
  },
  {
   "cell_type": "markdown",
   "metadata": {},
   "source": [
    "## Step 3: Build an HMM tagger\n",
    "---\n",
    "The HMM tagger has one hidden state for each possible tag, and parameterized by two distributions: the emission probabilties giving the conditional probability of observing a given **word** from each hidden state, and the transition probabilities giving the conditional probability of moving between **tags** during the sequence.\n",
    "\n",
    "We will also estimate the starting probability distribution (the probability of each **tag** being the first tag in a sequence), and the terminal probability distribution (the probability of each **tag** being the last tag in a sequence).\n",
    "\n",
    "The maximum likelihood estimate of these distributions can be calculated from the frequency counts as described in the following sections where you'll implement functions to count the frequencies, and finally build the model. The HMM model will make predictions according to the formula:\n",
    "\n",
    "$$t_i^n = \\underset{t_i^n}{\\mathrm{argmax}} \\prod_{i=1}^n P(w_i|t_i) P(t_i|t_{i-1})$$\n",
    "\n",
    "Refer to Speech & Language Processing [Chapter 10](https://web.stanford.edu/~jurafsky/slp3/10.pdf) for more information."
   ]
  },
  {
   "cell_type": "markdown",
   "metadata": {},
   "source": [
    "### IMPLEMENTATION: Unigram Counts\n",
    "\n",
    "Complete the function below to estimate the co-occurrence frequency of each symbol over all of the input sequences. The unigram probabilities in our HMM model are estimated from the formula below, where N is the total number of samples in the input. (You only need to compute the counts for now.)\n",
    "\n",
    "$$P(tag_1) = \\frac{C(tag_1)}{N}$$"
   ]
  },
  {
   "cell_type": "code",
   "execution_count": 14,
   "metadata": {},
   "outputs": [
    {
     "data": {
      "text/html": [
       "<div class=\"alert alert-block alert-success\">Your tag unigrams look good!</div>"
      ],
      "text/plain": [
       "<IPython.core.display.HTML object>"
      ]
     },
     "execution_count": 14,
     "metadata": {},
     "output_type": "execute_result"
    }
   ],
   "source": [
    "def unigram_counts(sequences):\n",
    "    \"\"\"Return a dictionary keyed to each unique value in the input sequence list that\n",
    "    counts the number of occurrences of the value in the sequences list. The sequences\n",
    "    collection should be a 2-dimensional array.\n",
    "    \n",
    "    For example, if the tag NOUN appears 275558 times over all the input sequences,\n",
    "    then you should return a dictionary such that your_unigram_counts[NOUN] == 275558.\n",
    "    \"\"\"\n",
    "    counts = {}\n",
    "    for seq in sequences:\n",
    "        for tag in seq:\n",
    "            counts[tag] = counts.get(tag, 0) + 1\n",
    "    \n",
    "    return counts\n",
    "\n",
    "# TODO: call unigram_counts with a list of tag sequences from the training set\n",
    "tag_unigrams = unigram_counts(data.training_set.Y)\n",
    "\n",
    "assert set(tag_unigrams.keys()) == data.training_set.tagset, \\\n",
    "       \"Uh oh. It looks like your tag counts doesn't include all the tags!\"\n",
    "assert min(tag_unigrams, key=tag_unigrams.get) == 'X', \\\n",
    "       \"Hmmm...'X' is expected to be the least common class\"\n",
    "assert max(tag_unigrams, key=tag_unigrams.get) == 'NOUN', \\\n",
    "       \"Hmmm...'NOUN' is expected to be the most common class\"\n",
    "HTML('<div class=\"alert alert-block alert-success\">Your tag unigrams look good!</div>')"
   ]
  },
  {
   "cell_type": "markdown",
   "metadata": {},
   "source": [
    "### IMPLEMENTATION: Bigram Counts\n",
    "\n",
    "Complete the function below to estimate the co-occurrence frequency of each pair of symbols in each of the input sequences. These counts are used in the HMM model to estimate the bigram probability of two tags from the frequency counts according to the formula: $$P(tag_2|tag_1) = \\frac{C(tag_2|tag_1)}{C(tag_2)}$$\n"
   ]
  },
  {
   "cell_type": "code",
   "execution_count": 15,
   "metadata": {},
   "outputs": [
    {
     "data": {
      "text/html": [
       "<div class=\"alert alert-block alert-success\">Your tag bigrams look good!</div>"
      ],
      "text/plain": [
       "<IPython.core.display.HTML object>"
      ]
     },
     "execution_count": 15,
     "metadata": {},
     "output_type": "execute_result"
    }
   ],
   "source": [
    "def bigram_counts(sequences):\n",
    "    \"\"\"Return a dictionary keyed to each unique PAIR of values in the input sequences\n",
    "    list that counts the number of occurrences of pair in the sequences list. The input\n",
    "    should be a 2-dimensional array.\n",
    "    \n",
    "    For example, if the pair of tags (NOUN, VERB) appear 61582 times, then you should\n",
    "    return a dictionary such that your_bigram_counts[(NOUN, VERB)] == 61582\n",
    "    \"\"\"\n",
    "    counts = {}\n",
    "    unique_tags = []\n",
    "    \n",
    "    # initialize the bigrams so we have the complete set of possible bigrams\n",
    "    for seq in sequences:\n",
    "        for tag in seq:\n",
    "            if tag not in unique_tags:\n",
    "                unique_tags.append(tag)\n",
    "    for bigram in product(unique_tags, repeat=2):\n",
    "        counts[bigram] = 0    \n",
    "    \n",
    "    for seq in sequences:\n",
    "        for i in range(1, len(seq)):\n",
    "            bigram = (seq[i-1], seq[i])\n",
    "            counts[bigram] += 1\n",
    "    return counts\n",
    "\n",
    "# TODO: call bigram_counts with a list of tag sequences from the training set\n",
    "tag_bigrams = bigram_counts(data.training_set.Y)\n",
    "\n",
    "assert len(tag_bigrams) == 144, \\\n",
    "       \"Uh oh. There should be 144 pairs of bigrams (12 tags x 12 tags)\"\n",
    "assert min(tag_bigrams, key=tag_bigrams.get) in [('X', 'NUM'), ('PRON', 'X')], \\\n",
    "       \"Hmmm...The least common bigram should be one of ('X', 'NUM') or ('PRON', 'X').\"\n",
    "assert max(tag_bigrams, key=tag_bigrams.get) in [('DET', 'NOUN')], \\\n",
    "       \"Hmmm...('DET', 'NOUN') is expected to be the most common bigram.\"\n",
    "HTML('<div class=\"alert alert-block alert-success\">Your tag bigrams look good!</div>')"
   ]
  },
  {
   "cell_type": "markdown",
   "metadata": {},
   "source": [
    "### IMPLEMENTATION: Sequence Starting Counts\n",
    "Complete the code below to estimate the bigram probabilities of a sequence starting with each tag."
   ]
  },
  {
   "cell_type": "code",
   "execution_count": 16,
   "metadata": {},
   "outputs": [
    {
     "data": {
      "text/html": [
       "<div class=\"alert alert-block alert-success\">Your starting tag counts look good!</div>"
      ],
      "text/plain": [
       "<IPython.core.display.HTML object>"
      ]
     },
     "execution_count": 16,
     "metadata": {},
     "output_type": "execute_result"
    }
   ],
   "source": [
    "def starting_counts(sequences):\n",
    "    \"\"\"Return a dictionary keyed to each unique value in the input sequences list\n",
    "    that counts the number of occurrences where that value is at the beginning of\n",
    "    a sequence.\n",
    "    \n",
    "    For example, if 8093 sequences start with NOUN, then you should return a\n",
    "    dictionary such that your_starting_counts[NOUN] == 8093\n",
    "    \"\"\"\n",
    "    counts = {}\n",
    "    for seq in sequences:\n",
    "        starting_tag = seq[0]\n",
    "        counts[starting_tag] = counts.get(starting_tag, 0) + 1\n",
    "    return counts\n",
    "\n",
    "# TODO: Calculate the count of each tag starting a sequence\n",
    "tag_starts = starting_counts(data.training_set.Y)\n",
    "\n",
    "assert len(tag_starts) == 12, \"Uh oh. There should be 12 tags in your dictionary.\"\n",
    "assert min(tag_starts, key=tag_starts.get) == 'X', \"Hmmm...'X' is expected to be the least common starting bigram.\"\n",
    "assert max(tag_starts, key=tag_starts.get) == 'DET', \"Hmmm...'DET' is expected to be the most common starting bigram.\"\n",
    "HTML('<div class=\"alert alert-block alert-success\">Your starting tag counts look good!</div>')"
   ]
  },
  {
   "cell_type": "markdown",
   "metadata": {},
   "source": [
    "### IMPLEMENTATION: Sequence Ending Counts\n",
    "Complete the function below to estimate the bigram probabilities of a sequence ending with each tag."
   ]
  },
  {
   "cell_type": "code",
   "execution_count": 17,
   "metadata": {},
   "outputs": [
    {
     "data": {
      "text/html": [
       "<div class=\"alert alert-block alert-success\">Your ending tag counts look good!</div>"
      ],
      "text/plain": [
       "<IPython.core.display.HTML object>"
      ]
     },
     "execution_count": 17,
     "metadata": {},
     "output_type": "execute_result"
    }
   ],
   "source": [
    "def ending_counts(sequences):\n",
    "    \"\"\"Return a dictionary keyed to each unique value in the input sequences list\n",
    "    that counts the number of occurrences where that value is at the end of\n",
    "    a sequence.\n",
    "    \n",
    "    For example, if 18 sequences end with DET, then you should return a\n",
    "    dictionary such that your ending_counts[DET] == 18\n",
    "    \"\"\"\n",
    "    counts = {}\n",
    "    for seq in sequences:\n",
    "        ending_tag = seq[-1]\n",
    "        counts[ending_tag] = counts.get(ending_tag, 0) + 1\n",
    "    return counts\n",
    "\n",
    "# TODO: Calculate the count of each tag ending a sequence\n",
    "tag_ends = ending_counts(data.training_set.Y)\n",
    "\n",
    "assert len(tag_ends) == 12, \"Uh oh. There should be 12 tags in your dictionary.\"\n",
    "assert min(tag_ends, key=tag_ends.get) in ['X', 'CONJ'], \"Hmmm...'X' or 'CONJ' should be the least common ending bigram.\"\n",
    "assert max(tag_ends, key=tag_ends.get) == '.', \"Hmmm...'.' is expected to be the most common ending bigram.\"\n",
    "HTML('<div class=\"alert alert-block alert-success\">Your ending tag counts look good!</div>')"
   ]
  },
  {
   "cell_type": "markdown",
   "metadata": {},
   "source": [
    "### IMPLEMENTATION: Basic HMM Tagger\n",
    "Use the tag unigrams and bigrams calculated above to construct a hidden Markov tagger.\n",
    "\n",
    "- Add one state per tag\n",
    "    - The emission distribution at each state should be estimated with the formula: $P(w|t) = \\frac{C(t, w)}{C(t)}$\n",
    "- Add an edge from the starting state `basic_model.start` to each tag\n",
    "    - The transition probability should be estimated with the formula: $P(t|start) = \\frac{C(start, t)}{C(start)}$\n",
    "- Add an edge from each tag to the end state `basic_model.end`\n",
    "    - The transition probability should be estimated with the formula: $P(end|t) = \\frac{C(t, end)}{C(t)}$\n",
    "- Add an edge between _every_ pair of tags\n",
    "    - The transition probability should be estimated with the formula: $P(t_2|t_1) = \\frac{C(t_1, t_2)}{C(t_1)}$"
   ]
  },
  {
   "cell_type": "code",
   "execution_count": 18,
   "metadata": {},
   "outputs": [
    {
     "data": {
      "text/html": [
       "<div class=\"alert alert-block alert-success\">Your HMM network topology looks good!</div>"
      ],
      "text/plain": [
       "<IPython.core.display.HTML object>"
      ]
     },
     "execution_count": 18,
     "metadata": {},
     "output_type": "execute_result"
    }
   ],
   "source": [
    "basic_model = HiddenMarkovModel(name=\"base-hmm-tagger\")\n",
    "\n",
    "# TODO: create states with emission probability distributions P(word | tag) and add to the model\n",
    "# (Hint: you may need to loop & create/add new states)\n",
    "\n",
    "tag_states = []\n",
    "for tag, counts in emission_counts.items():\n",
    "    probabilities = {word: counts[word]/tag_unigrams[tag] for word in counts}\n",
    "    tag_states.append(State(DiscreteDistribution(probabilities), name=tag))\n",
    "basic_model.add_states(tag_states)\n",
    "\n",
    "# TODO: add edges between states for the observed transition frequencies P(tag_i | tag_i-1)\n",
    "# (Hint: you may need to loop & add transitions\n",
    "# Add starting and ending transitions\n",
    "for state in tag_states:\n",
    "    tag = state.name\n",
    "    basic_model.add_transition(basic_model.start, state, tag_starts.get(tag, 0)/len(data.training_set))\n",
    "    basic_model.add_transition(state, basic_model.end, tag_ends.get(tag, 0)/tag_unigrams[tag])\n",
    "\n",
    "# Adding an edge between every pair of tags\n",
    "for state_a in tag_states:\n",
    "    tag_a = state_a.name\n",
    "    for state_b in tag_states:\n",
    "        tag_b = state_b.name\n",
    "        basic_model.add_transition(state_a, state_b, tag_bigrams.get((tag_a, tag_b),0)/tag_unigrams[tag_a])\n",
    "\n",
    "# NOTE: YOU SHOULD NOT NEED TO MODIFY ANYTHING BELOW THIS LINE\n",
    "# finalize the model\n",
    "basic_model.bake()\n",
    "\n",
    "assert all(tag in set(s.name for s in basic_model.states) for tag in data.training_set.tagset), \\\n",
    "       \"Every state in your network should use the name of the associated tag, which must be one of the training set tags.\"\n",
    "assert basic_model.edge_count() == 168, \\\n",
    "       (\"Your network should have an edge from the start node to each state, one edge between every \" +\n",
    "        \"pair of tags (states), and an edge from each state to the end node.\")\n",
    "HTML('<div class=\"alert alert-block alert-success\">Your HMM network topology looks good!</div>')"
   ]
  },
  {
   "cell_type": "code",
   "execution_count": 19,
   "metadata": {
    "scrolled": true
   },
   "outputs": [
    {
     "name": "stdout",
     "output_type": "stream",
     "text": [
      "2.9087066650390625e-05 secs. training accuracy basic hmm model: 97.54%\n",
      "4.506111145019531e-05 secs. testing accuracy basic hmm model: 95.95%\n"
     ]
    },
    {
     "data": {
      "text/html": [
       "<div class=\"alert alert-block alert-success\">Your HMM tagger accuracy looks correct! Congratulations, you've finished the project.</div>"
      ],
      "text/plain": [
       "<IPython.core.display.HTML object>"
      ]
     },
     "execution_count": 19,
     "metadata": {},
     "output_type": "execute_result"
    }
   ],
   "source": [
    "import time\n",
    "\n",
    "start = time.time()\n",
    "runtime = time.time() - start\n",
    "hmm_training_acc = accuracy(data.training_set.X, data.training_set.Y, basic_model)\n",
    "print(\"{} secs. training accuracy basic hmm model: {:.2f}%\".format(runtime, 100 * hmm_training_acc))\n",
    "\n",
    "start = time.time()\n",
    "runtime = time.time() - start\n",
    "hmm_testing_acc = accuracy(data.testing_set.X, data.testing_set.Y, basic_model)\n",
    "print(\"{} secs. testing accuracy basic hmm model: {:.2f}%\".format(runtime, 100 * hmm_testing_acc))\n",
    "\n",
    "assert hmm_training_acc > 0.97, \"Uh oh. Your HMM accuracy on the training set doesn't look right.\"\n",
    "assert hmm_testing_acc > 0.955, \"Uh oh. Your HMM accuracy on the testing set doesn't look right.\"\n",
    "HTML('<div class=\"alert alert-block alert-success\">Your HMM tagger accuracy looks correct! Congratulations, you\\'ve finished the project.</div>')"
   ]
  },
  {
   "cell_type": "markdown",
   "metadata": {},
   "source": [
    "### Example Decoding Sequences with the HMM Tagger"
   ]
  },
  {
   "cell_type": "code",
   "execution_count": null,
   "metadata": {},
   "outputs": [],
   "source": [
    "for key in data.testing_set.keys[:3]:\n",
    "    print(\"Sentence Key: {}\\n\".format(key))\n",
    "    print(\"Predicted labels:\\n-----------------\")\n",
    "    print(simplify_decoding(data.sentences[key].words, basic_model))\n",
    "    print()\n",
    "    print(\"Actual labels:\\n--------------\")\n",
    "    print(data.sentences[key].tags)\n",
    "    print(\"\\n\")"
   ]
  },
  {
   "cell_type": "markdown",
   "metadata": {},
   "source": [
    "\n",
    "## Finishing the project\n",
    "---\n",
    "\n",
    "<div class=\"alert alert-block alert-info\">\n",
    "**Note:** **SAVE YOUR NOTEBOOK**, then run the next cell to generate an HTML copy. You will zip & submit both this file and the HTML copy for review.\n",
    "</div>"
   ]
  },
  {
   "cell_type": "code",
   "execution_count": null,
   "metadata": {},
   "outputs": [],
   "source": [
    "!!jupyter nbconvert *.ipynb"
   ]
  },
  {
   "cell_type": "markdown",
   "metadata": {},
   "source": [
    "## Step 4: [Optional] Improving model performance\n",
    "---\n",
    "There are additional enhancements that can be incorporated into your tagger that improve performance on larger tagsets where the data sparsity problem is more significant. The data sparsity problem arises because the same amount of data split over more tags means there will be fewer samples in each tag, and there will be more missing data  tags that have zero occurrences in the data. The techniques in this section are optional.\n",
    "\n",
    "- [Laplace Smoothing](https://en.wikipedia.org/wiki/Additive_smoothing) (pseudocounts)\n",
    "    Laplace smoothing is a technique where you add a small, non-zero value to all observed counts to offset for unobserved values.\n",
    "\n",
    "- Backoff Smoothing\n",
    "    Another smoothing technique is to interpolate between n-grams for missing data. This method is more effective than Laplace smoothing at combatting the data sparsity problem. Refer to chapters 4, 9, and 10 of the [Speech & Language Processing](https://web.stanford.edu/~jurafsky/slp3/) book for more information.\n",
    "\n",
    "- Extending to Trigrams\n",
    "    HMM taggers have achieved better than 96% accuracy on this dataset with the full Penn treebank tagset using an architecture described in [this](http://www.coli.uni-saarland.de/~thorsten/publications/Brants-ANLP00.pdf) paper. Altering your HMM to achieve the same performance would require implementing deleted interpolation (described in the paper), incorporating trigram probabilities in your frequency tables, and re-implementing the Viterbi algorithm to consider three consecutive states instead of two.\n",
    "\n",
    "### Obtain the Brown Corpus with a Larger Tagset\n",
    "Run the code below to download a copy of the brown corpus with the full NLTK tagset. You will need to research the available tagset information in the NLTK docs and determine the best way to extract the subset of NLTK tags you want to explore. If you write the following the format specified in Step 1, then you can reload the data using all of the code above for comparison.\n",
    "\n",
    "Refer to [Chapter 5](http://www.nltk.org/book/ch05.html) of the NLTK book for more information on the available tagsets."
   ]
  },
  {
   "cell_type": "code",
   "execution_count": null,
   "metadata": {},
   "outputs": [],
   "source": [
    "import nltk\n",
    "from nltk import pos_tag, word_tokenize\n",
    "from nltk.corpus import brown\n",
    "\n",
    "nltk.download('brown')\n",
    "training_corpus = nltk.corpus.brown\n",
    "training_corpus.tagged_sents()[0]"
   ]
  },
  {
   "cell_type": "markdown",
   "metadata": {},
   "source": [
    "### Modified unigram, bigram, and trigram counts"
   ]
  },
  {
   "cell_type": "code",
   "execution_count": 20,
   "metadata": {},
   "outputs": [],
   "source": [
    "def bigram_counts_with_boundaries(sequences):\n",
    "    \"\"\"\n",
    "    This is a version of bigram counts that take into account sentence boundaries, denoted by <*>.\n",
    "    \n",
    "    Return a dictionary keyed to each unique pair of values in the input sequences\n",
    "    list that counts the number of occurrences of the triplet in the sequences list. The input\n",
    "    should be a 2-dimensional array.\n",
    "    \n",
    "    For example, if the pair of tags (NOUN, VERB) appear 61582 times, then you should\n",
    "    return a dictionary such that bigram_counts_with_boundaries[(NOUN, VERB)] == 61582\n",
    "    \"\"\"\n",
    "    counts = {}\n",
    "    unique_tags = []\n",
    "    \n",
    "    # initialize the bigrams\n",
    "    for seq in sequences:\n",
    "        for tag in seq:\n",
    "            if tag not in unique_tags:\n",
    "                unique_tags.append(tag)\n",
    "    for bigram in product(unique_tags, repeat=2):\n",
    "        counts[bigram] = 0\n",
    "    for unigram in unique_tags:\n",
    "        counts[(\"<*>\", unigram)] = 0\n",
    "        counts[(unigram, \"<*>\")] = 0\n",
    "    \n",
    "    for seq in sequences:\n",
    "        for i in range(len(seq)):\n",
    "            if i == 0:\n",
    "                bigram = (\"<*>\", seq[i])    \n",
    "            else:\n",
    "                bigram = (seq[i-1], seq[i])\n",
    "            counts[bigram] += 1\n",
    "            \n",
    "        # add the ending bigrams\n",
    "        bigram = (seq[-1], \"<*>\")\n",
    "        counts[bigram] += 1\n",
    "    return counts"
   ]
  },
  {
   "cell_type": "code",
   "execution_count": 21,
   "metadata": {},
   "outputs": [],
   "source": [
    "def trigram_counts_with_boundaries(sequences):\n",
    "    \"\"\"Return a dictionary keyed to each unique triplet of values in the input sequences\n",
    "    list that counts the number of occurrences of the triplet in the sequences list. The input\n",
    "    should be a 2-dimensional array.\n",
    "    \n",
    "    For example, if the triplet of tags (NOUN, VERB, NOUN) appear 61582 times, then you should\n",
    "    return a dictionary such that trigram_counts[(NOUN, VERB, NOUN)] == 61582\n",
    "    \n",
    "    The list of trigrams would include <*> denoting sentence boundaries\n",
    "    \"\"\"\n",
    "    counts = {}\n",
    "    unique_tags = []\n",
    "    \n",
    "    # initialize the trigrams\n",
    "    for seq in sequences:\n",
    "        for tag in seq:\n",
    "            if tag not in unique_tags:\n",
    "                unique_tags.append(tag)\n",
    "    for trigram in product(unique_tags, repeat=3):\n",
    "        counts[trigram] = 0\n",
    "    for bigram in product(unique_tags, repeat=2):\n",
    "        counts[(\"<*>\",) + bigram] = 0\n",
    "        counts[bigram + (\"<*>\",)] = 0\n",
    "    for unigram in unique_tags:\n",
    "        counts[(\"<*>\", \"<*>\", unigram)] = 0\n",
    "    \n",
    "    for seq in sequences:\n",
    "        for i in range(len(seq)):\n",
    "            if i == 0:\n",
    "                trigram = (\"<*>\", \"<*>\", seq[i])    \n",
    "            elif i == 1:\n",
    "                trigram = (\"<*>\", seq[i-1], seq[i])\n",
    "            else:\n",
    "                trigram = (seq[i-2], seq[i-1], seq[i])\n",
    "            counts[trigram] += 1\n",
    "            \n",
    "        # add the ending trigrams\n",
    "        if len(seq) > 1:\n",
    "            trigram = (seq[-2], seq[-1], \"<*>\")\n",
    "            counts[trigram] += 1\n",
    "    return counts"
   ]
  },
  {
   "cell_type": "code",
   "execution_count": 42,
   "metadata": {},
   "outputs": [],
   "source": [
    "import pandas as pd\n",
    "from collections import namedtuple\n",
    "\n",
    "TagState = namedtuple(\"TagState\", [\"name\", \"emissions\"])\n",
    "\n",
    "class HMMTrigramTagger:\n",
    "    def __init__(self, emissions, trigrams, bigrams, unigrams, n):\n",
    "        \"\"\" emissions: a dictionary of tag to its word frequency distribution\n",
    "            trigrams: a dictionary of each tag trigram to its count. It should include <*> denoting sentence boundaries.\n",
    "            bigrams: a dictionary of each tag bigram to its count. It should include <*> denoting sentence boundaries.\n",
    "            unigrams: a dictionary of each tag unigram to its count.\n",
    "            n: number of sentences used to generate the unigrams, bigrams, and trigram counts\n",
    "        \"\"\"\n",
    "        dummy_state = TagState(\"<*>\", {\"<*>\": 1})\n",
    "        self.states = [dummy_state]\n",
    "        \n",
    "        self.trigrams = {} # trigram tag probabilities\n",
    "        self.bigrams = {}  # bigram tag probabilities\n",
    "        self.unigrams = {} # unigram tag probabilities\n",
    "        for tag, counts in emissions.items():\n",
    "            probabilities = {word: counts[word]/unigrams[tag] for word in counts}\n",
    "            self.states.append(TagState(tag, probabilities))\n",
    "        \n",
    "        # calculate unigram, bigram, and trigram probabilities\n",
    "        # get the weights for combining unigram, bigram, and trigram probabilities in the final trigrams\n",
    "        # based on Brants' deleted interpolation algorithm\n",
    "        lambda_1, lambda_2, lambda_3 = self.deleted_interpolation(trigrams, bigrams, unigrams)\n",
    "        self.unigrams = unigrams.copy()\n",
    "        n_tokens = sum(c for t, c in unigrams.items())\n",
    "        \n",
    "        for bigram, count in bigrams.items():\n",
    "            if bigram[0] == \"<*>\":\n",
    "                self.bigrams[bigram] = count/n\n",
    "            else:\n",
    "                self.bigrams[bigram] = count/self.unigrams[bigram[0]]\n",
    "            \n",
    "        for trigram, count in trigrams.items():\n",
    "            if (trigram[0], trigram[1]) == (\"<*>\", \"<*>\"):\n",
    "                self.trigrams[trigram] = count/n\n",
    "            elif trigram[0] == \"<*>\":\n",
    "                self.trigrams[trigram] = count/bigrams[(trigram[0], trigram[1])]\n",
    "            else:\n",
    "                bigram = (trigram[1], trigram[2])\n",
    "                unigram = trigram[2]\n",
    "                \n",
    "                self.trigrams[trigram] = (\n",
    "                    lambda_3 * count/bigrams[(trigram[0], trigram[1])] + \n",
    "                    lambda_2 * self.bigrams.get(bigram, 0) +\n",
    "                    lambda_1 * self.unigrams.get(unigram, 0)/n_tokens\n",
    "                )                  \n",
    "                \n",
    "        # default unknown words (denoted by 'nan') to the most frequent tag\n",
    "        most_frequent_tag = max(self.unigrams, key=self.unigrams.get)\n",
    "        for state in self.states:\n",
    "            if state.name == most_frequent_tag:\n",
    "                state.emissions[\"nan\"] = 1\n",
    "                \n",
    "        # create transition matrix from the bigrams (this is needed for viterbi_b method)\n",
    "        self.transitions = np.array([self.bigrams.get((from_state.name, to_state.name), 0) for from_state in self.states for to_state in self.states])\n",
    "        self.transitions = self.transitions.reshape(len(self.states), -1)\n",
    "        \n",
    "        # create transition matrix from the trigrams (this is needed for the viterbi method)\n",
    "        self.transitions3 = np.array([self.trigrams.get((from_state1.name, from_state2.name, to_state.name), 0) for from_state1 in self.states for from_state2 in self.states for to_state in self.states])\n",
    "        self.transitions3 = self.transitions3.reshape(len(self.states)**2,  -1)\n",
    "        \n",
    "        assert (self.transitions.shape == (len(self.states), len(self.states)))\n",
    "        assert (self.transitions3.shape == (len(self.states) ** 2, len(self.states)))\n",
    "    \n",
    "    def deleted_interpolation(self, trigrams, bigrams, unigrams):\n",
    "        # apply the deleted interpolation to smooth trigram probabilities\n",
    "        # returns the weights lambda_1, lambda_2, lambda_3 for combining unigram, bigram, and trigram probabilities\n",
    "        # based on Brants (2000) @ http://www.coli.uni-saarland.de/~thorsten/publications/Brants-ANLP00.pdf\n",
    "        lambda_1, lambda_2, lambda_3 = 0, 0, 0\n",
    "        \n",
    "        n_tokens = sum(c for t, c in unigrams.items())\n",
    "        for trigram, trigram_count in trigrams.items():\n",
    "            if trigram_count > 0 and trigram[0] != \"<*>\" and trigram[1] != \"<*>\":\n",
    "                bigram_count = bigrams.get((trigram[1], trigram[2]), 0)\n",
    "                unigram_count = unigrams.get(trigram[2], 0)\n",
    "                \n",
    "                try:\n",
    "                    p3 = (trigram_count-1)/(bigram_count-1)\n",
    "                except ZeroDivisionError:\n",
    "                    p3 = 0\n",
    "                \n",
    "                try:\n",
    "                    p2 = (bigram_count-1)/(unigram_count-1)\n",
    "                except ZeroDivisionError:\n",
    "                    p2 = 0\n",
    "                    \n",
    "                try:\n",
    "                    p1 = (unigram_count-1)/(n_tokens-1)\n",
    "                except ZeroDivisionError:\n",
    "                    p1 = 0\n",
    "                    \n",
    "                max_p = max(p3, p2, p1)\n",
    "                \n",
    "                if max_p == p3:\n",
    "                    lambda_3 += trigram_count\n",
    "                elif max_p == p2:\n",
    "                    lambda_2 += trigram_count\n",
    "                else:\n",
    "                    lambda_1 += trigram_count\n",
    "        \n",
    "        total_lambda = lambda_1 + lambda_2 + lambda_3\n",
    "        lambda_1, lambda_2, lambda_3 = lambda_1/total_lambda, lambda_2/total_lambda, lambda_3/total_lambda\n",
    "        \n",
    "        assert (lambda_1 + lambda_2 + lambda_3 == 1)\n",
    "            \n",
    "        return lambda_1, lambda_2, lambda_3\n",
    "        \n",
    "    \n",
    "    def viterbi_b(self, seq):\n",
    "        \"\"\"This method is the implementation of the viterbi algorithm using bigrams.\n",
    "        It is used as the basic 'template' for implementing the trigram version (in the 'viterbi' method).\n",
    "        Use this method and compare to the output using the pomegranate library to check that the logic is ok.\n",
    "        \n",
    "        n_states = number of states, including <*>, which denotes sentence boundary\n",
    "        n_obs = length of the input sequence + 2 as we will be adding <*> to the beginning and end of the sequence\n",
    "        A = (n_states x n_states) transition matrix from the bigrams\n",
    "            A_ij denotes the transition probability from state i to state j\n",
    "        b = (n_obs x n_states) matrix denoting the emission probabilities \n",
    "            b_os denotes the probability of seeing observation o given we are in state s\n",
    "        v = (n_obs x n_states) matrix denoting viterbi probabilities\n",
    "        bp = (n_obs x n_states) matrix for viterbi back pointers\n",
    "        \"\"\"\n",
    "\n",
    "        n_states = len(self.states)\n",
    "        seq = [\"<*>\"] + list(seq) + [\"<*>\"]\n",
    "        n_obs = len(seq)\n",
    "        \n",
    "        # initialize the matrices\n",
    "        A = self.transitions\n",
    "        b = np.array([state.emissions.get(obs, 0) for state in self.states for obs in seq])\n",
    "        b = b.reshape(-1, n_obs).T\n",
    "        v = np.zeros((n_obs, n_states))\n",
    "        bp = np.zeros((n_obs, n_states)).astype(int)\n",
    "        v[0][0] = 1\n",
    "\n",
    "        for t in range(1, n_obs):\n",
    "            v_t_prev = v[t-1].reshape(-1,1) # column vector representing viterbi probs at t-1\n",
    "            v_t = np.multiply(v_t_prev, np.multiply(A, b[t]))\n",
    "            \n",
    "            # get maximum along the rows\n",
    "            v_t, bp_t = np.max(v_t, 0), np.argmax(v_t, 0)\n",
    "            \n",
    "            # put results back to the viterbi and back pointer matrices\n",
    "            v[t] = v_t\n",
    "            bp[t] = bp_t            \n",
    "            \n",
    "        tags = [None] * n_obs\n",
    "        tags[0], tags[n_obs-1] = self.states[0], self.states[0] # First and last tags = <*> which corresponds to state idx 0\n",
    "        tag_idx_one_ahead = 0\n",
    "        \n",
    "        # traverse the back pointers to get the complete tag sequence\n",
    "        for i in range(n_obs-2, 0, -1):\n",
    "            tags[i] = self.states[bp[i+1][tag_idx_one_ahead]]\n",
    "            tag_idx_one_ahead = bp[i+1][tag_idx_one_ahead]\n",
    "        \n",
    "        return 0., list(enumerate(tags))     \n",
    "\n",
    "\n",
    "    def viterbi(self, seq):\n",
    "        \"\"\"This method simplifies predictions by matching the Pomegranate viterbi() interface.\n",
    "        This is the extension of the viterbi algorithm using trigrams.\n",
    "        \n",
    "        n_states = number of states, including <*>, which denotes sentence boundary\n",
    "        n_obs = length of the input sequence + 2 as we will be adding <*> to the beginning and end of the sequence\n",
    "        A = (n_states**2 x n_states) transition matrix from the trigrams\n",
    "            A_ijk denotes the transition probability from bigram ij to state k\n",
    "        b = (n_obs x n_states) matrix denoting the emission probabilities \n",
    "            b_os denotes the probability of seeing observation o given we are in state s\n",
    "        v = (n_obs x n_states**2) matrix denoting viterbi probabilities\n",
    "            v_i,u,v = probability of sequence up to i ends in bigram u, v\n",
    "        bp = (n_obs x n_states**2) matrix for viterbi back pointers\n",
    "        \"\"\"\n",
    "        \n",
    "        n_states = len(self.states)\n",
    "        \n",
    "        seq = [\"<*>\"] + list(seq) + [\"<*>\"]\n",
    "        n_obs = len(seq)\n",
    "        \n",
    "        # initialize the matrices\n",
    "        A = self.transitions3\n",
    "        b = np.array([state.emissions.get(obs, 0) for state in self.states for obs in seq])\n",
    "        b = b.reshape(-1, n_obs).T\n",
    "        v = np.zeros((n_obs, n_states*n_states))\n",
    "        bp = np.ones((n_obs, n_states*n_states)).astype(int)\n",
    "        v[0][0] = 1\n",
    "\n",
    "        for t in range(1, n_obs):\n",
    "            v_t_prev = v[t-1].reshape(n_states*n_states, 1) # 2-d matrix representing viterbi probs at t-1\n",
    "            v_t = np.multiply(v_t_prev, np.multiply(A, b[t]))\n",
    "            \n",
    "            # get maximum along the rows\n",
    "            # v_t is now a 2d matrix of (i*j rows and k columns), representing probabilities of \n",
    "            # the sequence ending in trigram i, j, k\n",
    "            # we will reshape v_t to i rows x j*k columns\n",
    "            # and get the maximum probabilities across the i rows\n",
    "            # so that we will end up with the probability of the sequence up to observation t ending in bigram j, k \n",
    "            v_t = v_t.reshape(n_states, n_states * n_states)\n",
    "            bp_tmax, v_tmax = np.argmax(v_t, 0), np.max(v_t, 0)\n",
    "\n",
    "            # put results back to the viterbi and back pointer matrices\n",
    "            v[t] = v_tmax\n",
    "            bp[t] = bp_tmax\n",
    "\n",
    "        tags = [None] * n_obs\n",
    "        tags[0] = self.states[0] # First tag = <*> which corresponds to state idx 0\n",
    "        \n",
    "        # Convert the matrix to dataframe and label the columns according to \n",
    "        # the state indices of the corresponding bigram to make the backtracking logic easier\n",
    "        df = pd.DataFrame(bp)\n",
    "        columns = [ (i//n_states, i%n_states) for i in range(n_states**2)]\n",
    "        df.columns = columns       \n",
    "        \"\"\"\n",
    "        Consider trigram (u, v, w) that corresponds to the maximum probability for the sequence up to t\n",
    "            u = max(bp[t])\n",
    "            v, w = argmax(bp[t])\n",
    "            \n",
    "        Example data frame    \n",
    "               (0, 0) (0, 1) (0,2) (1,0) (1, 1) (1,2) (2, 0) (2, 1) (2, 2)\n",
    "        t=0 *\n",
    "          1 O1                                     0\n",
    "          2 O2                                                  1\n",
    "          3 *                        2\n",
    "        \"\"\"        \n",
    "        u = df.iloc[n_obs-1].max()           # at t=3: u=2\n",
    "        (v, w) = df.iloc[n_obs-1].idxmax()   # at t=3: v, w = (1, 0)\n",
    "        tags[n_obs-3], tags[n_obs-2], tags[n_obs-1] = self.states[u], self.states[v], self.states[w]\n",
    "                \n",
    "        # traverse the back pointers to get the complete tag sequence\n",
    "        for i in range(n_obs-2, 2, -1):\n",
    "            v, w = u, v\n",
    "            u = df.iloc[i][(v, w)]\n",
    "            tags[i-2] = self.states[u]\n",
    "                    \n",
    "        return 0., list(enumerate(tags))     \n",
    "    "
   ]
  },
  {
   "cell_type": "markdown",
   "metadata": {},
   "source": [
    "### HMM Tagger using trigrams "
   ]
  },
  {
   "cell_type": "code",
   "execution_count": 47,
   "metadata": {},
   "outputs": [
    {
     "name": "stdout",
     "output_type": "stream",
     "text": [
      "209.96545696258545 secs, training accuracy trigram model: 97.32%\n",
      "52.20131802558899 secs, testing accuracy trigram model: 96.22%\n"
     ]
    }
   ],
   "source": [
    "import time\n",
    "\n",
    "emission_counts = pair_counts(data.training_set.Y, data.training_set.X)\n",
    "word_counts = pair_counts(data.training_set.X, data.training_set.Y)\n",
    "\n",
    "tag_unigrams = unigram_counts(data.training_set.Y)\n",
    "tag_bigrams = bigram_counts_with_boundaries(data.training_set.Y)\n",
    "tag_trigrams = trigram_counts_with_boundaries(data.training_set.Y)\n",
    "\n",
    "trigram_model = HMMTrigramTagger(emission_counts, tag_trigrams, tag_bigrams, tag_unigrams, len(data.training_set))\n",
    "\n",
    "start = time.time()\n",
    "trigram_training_acc = accuracy(data.training_set.X, data.training_set.Y, trigram_model)\n",
    "runtime = time.time() - start\n",
    "print(\"{} secs, training accuracy trigram model: {:.2f}%\".format(runtime, 100 * trigram_training_acc))\n",
    "\n",
    "start = time.time()\n",
    "trigram_testing_acc = accuracy(data.testing_set.X, data.testing_set.Y, trigram_model)\n",
    "runtime = time.time() - start\n",
    "print(\"{} secs, testing accuracy trigram model: {:.2f}%\".format(runtime, 100 * trigram_testing_acc))\n",
    "\n",
    "assert trigram_training_acc > 0.97, \"Uh oh. Your HMM accuracy on the training set doesn't look right.\"\n",
    "assert trigram_testing_acc > 0.955, \"Uh oh. Your HMM accuracy on the testing set doesn't look right.\"\n"
   ]
  },
  {
   "cell_type": "code",
   "execution_count": 26,
   "metadata": {},
   "outputs": [
    {
     "name": "stdout",
     "output_type": "stream",
     "text": [
      "Sentence Key: b100-35462\n",
      "\n",
      "Predicted labels:\n",
      "-----------------\n",
      "['DET', 'ADJ', 'NOUN', 'VERB', 'VERB', 'VERB', 'ADP', 'DET', 'ADJ', 'ADJ', 'NOUN', 'ADP', 'DET', 'ADJ', 'NOUN', '.', 'ADP', 'ADJ', 'NOUN', '.', 'CONJ', 'ADP', 'DET', 'NOUN', 'ADP', 'ADJ', 'ADJ', '.', 'ADJ', '.', 'CONJ', 'ADJ', 'NOUN', 'ADP', 'ADV', 'NOUN', '.']\n",
      "\n",
      "Actual labels:\n",
      "--------------\n",
      "['DET', 'ADJ', 'NOUN', 'VERB', 'VERB', 'VERB', 'ADP', 'DET', 'ADJ', 'ADJ', 'NOUN', 'ADP', 'DET', 'ADJ', 'NOUN', '.', 'ADP', 'ADJ', 'NOUN', '.', 'CONJ', 'ADP', 'DET', 'NOUN', 'ADP', 'ADJ', 'ADJ', '.', 'ADJ', '.', 'CONJ', 'ADJ', 'NOUN', 'ADP', 'ADJ', 'NOUN', '.']\n",
      "\n",
      "\n",
      "Sentence Key: b100-20386\n",
      "\n",
      "Predicted labels:\n",
      "-----------------\n",
      "['ADP', 'ADJ', 'NOUN', '.', 'ADP', 'DET', 'NOUN', 'ADP', 'DET', 'VERB', 'NOUN', 'NOUN', 'NOUN', 'ADP', 'DET', 'NOUN', 'NOUN', '.', 'ADJ', 'VERB', 'NOUN', 'NOUN', 'VERB', 'VERB', 'VERB', '.', 'CONJ', 'ADJ', 'ADJ', 'NOUN', 'VERB', '.', 'PRT', 'VERB', 'DET', 'NOUN', 'NOUN', 'CONJ', 'PRT', 'VERB', 'PRON', 'ADP', 'ADV', 'ADP', 'ADJ', '.']\n",
      "\n",
      "Actual labels:\n",
      "--------------\n",
      "['ADP', 'ADJ', 'NOUN', '.', 'ADP', 'DET', 'NOUN', 'ADP', 'DET', 'VERB', 'NOUN', 'NOUN', 'NOUN', 'ADP', 'DET', 'NOUN', 'NOUN', '.', 'ADJ', 'VERB', 'NOUN', 'NOUN', 'VERB', 'VERB', 'VERB', '.', 'CONJ', 'ADJ', 'ADJ', 'NOUN', 'VERB', '.', 'PRT', 'VERB', 'DET', 'ADJ', 'NOUN', 'CONJ', 'PRT', 'VERB', 'PRON', 'ADV', 'ADV', 'ADP', 'ADJ', '.']\n",
      "\n",
      "\n",
      "Sentence Key: b100-56612\n",
      "\n",
      "Predicted labels:\n",
      "-----------------\n",
      "['PRON', 'VERB', 'ADV', 'VERB', 'PRON', '.', 'ADP', 'PRON', 'VERB', 'VERB', 'ADJ', 'DET', 'ADJ', 'NOUN', 'ADP', 'DET', 'ADJ', 'NOUN', '.']\n",
      "\n",
      "Actual labels:\n",
      "--------------\n",
      "['PRON', 'VERB', 'ADV', 'VERB', 'PRON', '.', 'ADP', 'PRON', 'VERB', 'VERB', 'PRT', 'DET', 'ADJ', 'NOUN', 'ADP', 'DET', 'ADJ', 'NOUN', '.']\n",
      "\n",
      "\n",
      "Sentence Key: b100-47330\n",
      "\n",
      "Predicted labels:\n",
      "-----------------\n",
      "['ADV', 'VERB', 'PRON', 'VERB', 'ADV', '.', 'X', 'X']\n",
      "\n",
      "Actual labels:\n",
      "--------------\n",
      "['ADV', 'VERB', 'PRON', 'VERB', 'ADV', '.', '.', '.']\n",
      "\n",
      "\n",
      "Sentence Key: b100-44360\n",
      "\n",
      "Predicted labels:\n",
      "-----------------\n",
      "['.', 'DET', '.', 'X', 'X']\n",
      "\n",
      "Actual labels:\n",
      "--------------\n",
      "['.', 'DET', '.', '.', '.']\n",
      "\n",
      "\n",
      "Sentence Key: b100-56820\n",
      "\n",
      "Predicted labels:\n",
      "-----------------\n",
      "['DET', 'NOUN', 'NOUN', 'VERB', '.']\n",
      "\n",
      "Actual labels:\n",
      "--------------\n",
      "['DET', 'ADJ', 'NOUN', 'VERB', '.']\n",
      "\n",
      "\n",
      "Sentence Key: b100-24896\n",
      "\n",
      "Predicted labels:\n",
      "-----------------\n",
      "['ADP', 'DET', 'NOUN', 'ADP', 'DET', 'ADJ', 'NOUN', 'ADP', 'DET', 'NOUN', 'VERB', 'ADP', 'DET', 'ADJ', 'NOUN', 'PRT', 'VERB', 'ADV', 'NUM', 'NOUN', 'DET', 'VERB', 'DET', 'VERB', '.']\n",
      "\n",
      "Actual labels:\n",
      "--------------\n",
      "['ADP', 'DET', 'NOUN', 'ADP', 'DET', 'ADJ', 'NOUN', 'ADP', 'DET', 'NOUN', 'VERB', 'ADP', 'DET', 'ADJ', 'NOUN', 'PRT', 'VERB', 'ADV', 'NUM', 'NOUN', 'DET', 'VERB', 'DET', 'NOUN', '.']\n",
      "\n",
      "\n",
      "Sentence Key: b100-3782\n",
      "\n",
      "Predicted labels:\n",
      "-----------------\n",
      "['.', 'DET', 'NOUN', 'ADJ', 'VERB', 'ADP', 'DET', 'NOUN', 'VERB', 'ADV', 'DET', 'ADJ', 'NOUN', 'ADP', 'NOUN', '.']\n",
      "\n",
      "Actual labels:\n",
      "--------------\n",
      "['.', 'DET', 'NOUN', 'ADV', 'VERB', 'ADP', 'DET', 'NOUN', 'VERB', 'ADV', 'DET', 'ADJ', 'NOUN', 'ADP', 'NOUN', '.']\n",
      "\n",
      "\n",
      "Sentence Key: b100-21489\n",
      "\n",
      "Predicted labels:\n",
      "-----------------\n",
      "['PRON', 'VERB', 'DET', 'ADJ', 'NOUN', 'ADP', 'DET', 'NOUN', 'X', 'X']\n",
      "\n",
      "Actual labels:\n",
      "--------------\n",
      "['PRON', 'VERB', 'DET', 'ADJ', 'NOUN', 'ADP', 'DET', 'NOUN', '.', '.']\n",
      "\n",
      "\n",
      "Sentence Key: b100-53159\n",
      "\n",
      "Predicted labels:\n",
      "-----------------\n",
      "['.', 'ADV', '.', 'PRON', 'VERB', 'ADJ', '.', '.', 'PRON', 'VERB', '.', '.', 'CONJ', 'VERB', 'PRON', 'VERB', 'VERB', 'ADP', 'PRON', 'ADP', 'DET', 'NOUN', 'NOUN', '.', 'X', 'X']\n",
      "\n",
      "Actual labels:\n",
      "--------------\n",
      "['.', 'ADV', '.', 'PRON', 'VERB', 'ADJ', '.', '.', 'PRON', 'VERB', '.', '.', 'CONJ', 'VERB', 'PRON', 'VERB', 'VERB', 'ADP', 'PRON', 'ADP', 'DET', 'NOUN', 'NOUN', '.', '.', '.']\n",
      "\n",
      "\n",
      "Sentence Key: b100-1525\n",
      "\n",
      "Predicted labels:\n",
      "-----------------\n",
      "['NOUN', '.', 'DET', 'ADV', 'ADJ', 'ADP', 'DET', 'NOUN', '.', 'VERB', 'VERB', 'ADP', 'DET', 'NOUN', 'PRT', 'VERB', 'ADP', 'DET', 'NOUN', '.', 'ADP', 'ADV', 'ADP', 'DET', 'NOUN', 'ADJ', 'NOUN', '.']\n",
      "\n",
      "Actual labels:\n",
      "--------------\n",
      "['NOUN', '.', 'DET', 'ADJ', 'NOUN', 'ADP', 'DET', 'NOUN', '.', 'VERB', 'VERB', 'ADP', 'DET', 'NOUN', 'PRT', 'VERB', 'ADP', 'DET', 'NOUN', '.', 'ADV', 'ADV', 'ADP', 'DET', 'ADJ', 'ADJ', 'NOUN', '.']\n",
      "\n",
      "\n",
      "Sentence Key: b100-7578\n",
      "\n",
      "Predicted labels:\n",
      "-----------------\n",
      "['CONJ', 'DET', 'ADJ', 'NOUN', 'ADP', 'PRON', 'VERB', 'ADP', 'PRON', 'VERB', 'NUM', '.', 'DET', 'VERB', 'VERB', 'ADP', 'ADJ', 'NOUN', '.', 'CONJ', 'PRON', 'VERB', 'PRON', 'NOUN', 'CONJ', 'VERB', '.']\n",
      "\n",
      "Actual labels:\n",
      "--------------\n",
      "['CONJ', 'DET', 'ADJ', 'NOUN', 'ADP', 'PRON', 'VERB', 'ADP', 'PRON', 'VERB', 'NUM', '.', 'DET', 'VERB', 'VERB', 'ADP', 'ADJ', 'NOUN', '.', 'CONJ', 'PRON', 'VERB', 'PRON', 'VERB', 'CONJ', 'VERB', '.']\n",
      "\n",
      "\n",
      "Sentence Key: b100-18956\n",
      "\n",
      "Predicted labels:\n",
      "-----------------\n",
      "['NOUN', 'X', 'X']\n",
      "\n",
      "Actual labels:\n",
      "--------------\n",
      "['NOUN', '.', '.']\n",
      "\n",
      "\n",
      "Sentence Key: b100-53807\n",
      "\n",
      "Predicted labels:\n",
      "-----------------\n",
      "['PRT', 'NOUN', 'PRON', 'ADP', 'DET', 'ADJ', '.', '.', 'PRON', 'VERB', 'ADP', 'PRT', 'VERB', '.', 'ADJ', 'NOUN', '.', 'CONJ', 'VERB', 'ADJ', 'ADP', 'PRON', '.']\n",
      "\n",
      "Actual labels:\n",
      "--------------\n",
      "['PRT', 'VERB', 'PRON', 'ADP', 'DET', 'ADJ', '.', '.', 'PRON', 'VERB', 'ADV', 'PRT', 'VERB', '.', 'ADJ', 'NOUN', '.', 'CONJ', 'VERB', 'ADV', 'ADP', 'PRON', '.']\n",
      "\n",
      "\n",
      "Sentence Key: b100-11467\n",
      "\n",
      "Predicted labels:\n",
      "-----------------\n",
      "['ADJ', 'NOUN', 'ADP', 'ADJ', 'NOUN', 'ADP', 'ADJ', 'NOUN', 'VERB', 'NOUN', 'PRT', 'VERB', 'ADP', 'NOUN', 'DET', 'NOUN', 'ADP', 'NOUN', '.']\n",
      "\n",
      "Actual labels:\n",
      "--------------\n",
      "['ADJ', 'NOUN', 'ADP', 'ADJ', 'NOUN', 'ADP', 'ADJ', 'NOUN', 'VERB', 'VERB', 'PRT', 'VERB', 'ADP', 'NOUN', 'DET', 'NOUN', 'ADP', 'NOUN', '.']\n",
      "\n",
      "\n"
     ]
    }
   ],
   "source": [
    "for key in data.testing_set.keys[:100]:\n",
    "    basic_model_result = simplify_decoding(data.sentences[key].words, basic_model)\n",
    "    trigram_model_result = simplify_decoding(data.sentences[key].words, trigram_model)\n",
    "    correct_result = list(data.sentences[key].tags)\n",
    "    \n",
    "    if (trigram_model_result != correct_result\n",
    "        and basic_model_result == correct_result):\n",
    "        print(\"Sentence Key: {}\\n\".format(key))\n",
    "        print(\"Predicted labels:\\n-----------------\")\n",
    "        print(trigram_model_result)\n",
    "        print()\n",
    "        print(\"Actual labels:\\n--------------\")\n",
    "        print(correct_result)\n",
    "        print(\"\\n\")"
   ]
  },
  {
   "cell_type": "code",
   "execution_count": 29,
   "metadata": {},
   "outputs": [
    {
     "name": "stdout",
     "output_type": "stream",
     "text": [
      "(')', 'The', 'court', 'first', 'ruled', 'that', 'the', 'strike', 'constituted', 'only', 'an', 'indirect', 'interference', 'with', 'commerce', '.')\n"
     ]
    }
   ],
   "source": [
    "print(data.sentences['b100-3782'].words)"
   ]
  },
  {
   "cell_type": "code",
   "execution_count": null,
   "metadata": {},
   "outputs": [],
   "source": [
    "trigrams = tag_trigrams\n",
    "bigrams = tag_bigrams\n",
    "\n",
    "for trigram, count in tag_trigrams.items():\n",
    "    if (trigram[0], trigram[1]) == (\"<*>\", \"<*>\"):\n",
    "        self.trigrams[trigram] = count/n\n",
    "    elif trigram[0] == \"<*>\":\n",
    "        self.trigrams[trigram] = count/self.bigrams[(trigram[0], trigram[1])]\n",
    "    else:\n",
    "        bigram = (trigram[1], trigram[2])\n",
    "        unigram = trigram[2]\n",
    "\n",
    "        self.trigrams[trigram] = (\n",
    "            lambda_3 * count/self.bigrams[(trigram[0], trigram[1])] + \n",
    "            lambda_2 * self.bigrams.get(bigram, 0) +\n",
    "            lambda_1 * self.unigrams.get(unigram, 0)\n",
    "        )\n",
    "    print(\"{}: {}\".format(trigram, ))"
   ]
  }
 ],
 "metadata": {
  "kernelspec": {
   "display_name": "Python 3",
   "language": "python",
   "name": "python3"
  },
  "language_info": {
   "codemirror_mode": {
    "name": "ipython",
    "version": 3
   },
   "file_extension": ".py",
   "mimetype": "text/x-python",
   "name": "python",
   "nbconvert_exporter": "python",
   "pygments_lexer": "ipython3",
   "version": "3.5.4"
  }
 },
 "nbformat": 4,
 "nbformat_minor": 2
}
